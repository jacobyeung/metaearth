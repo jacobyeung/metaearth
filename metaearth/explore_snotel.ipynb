{
 "cells": [
  {
   "cell_type": "code",
   "execution_count": 1,
   "metadata": {},
   "outputs": [],
   "source": [
    "%load_ext autoreload\n",
    "%autoreload 2"
   ]
  },
  {
   "cell_type": "code",
   "execution_count": 2,
   "metadata": {},
   "outputs": [
    {
     "ename": "AttributeError",
     "evalue": "module 'shapely' has no attribute 'geometry'",
     "output_type": "error",
     "traceback": [
      "\u001b[0;31m---------------------------------------------------------------------------\u001b[0m",
      "\u001b[0;31mAttributeError\u001b[0m                            Traceback (most recent call last)",
      "\u001b[1;32m/Users/jacobyeung/Berkeley/Research/snow_benchmark/metaearth/notebooks/explore_snotel.ipynb Cell 2\u001b[0m in \u001b[0;36m<cell line: 6>\u001b[0;34m()\u001b[0m\n\u001b[1;32m      <a href='vscode-notebook-cell:/Users/jacobyeung/Berkeley/Research/snow_benchmark/metaearth/notebooks/explore_snotel.ipynb#W1sZmlsZQ%3D%3D?line=3'>4</a>\u001b[0m \u001b[39mimport\u001b[39;00m \u001b[39mos\u001b[39;00m\n\u001b[1;32m      <a href='vscode-notebook-cell:/Users/jacobyeung/Berkeley/Research/snow_benchmark/metaearth/notebooks/explore_snotel.ipynb#W1sZmlsZQ%3D%3D?line=4'>5</a>\u001b[0m \u001b[39mimport\u001b[39;00m \u001b[39msubprocess\u001b[39;00m\n\u001b[0;32m----> <a href='vscode-notebook-cell:/Users/jacobyeung/Berkeley/Research/snow_benchmark/metaearth/notebooks/explore_snotel.ipynb#W1sZmlsZQ%3D%3D?line=5'>6</a>\u001b[0m \u001b[39mfrom\u001b[39;00m \u001b[39mmetaearth\u001b[39;00m\u001b[39m.\u001b[39;00m\u001b[39mprovider\u001b[39;00m\u001b[39m.\u001b[39;00m\u001b[39msnotel\u001b[39;00m \u001b[39mimport\u001b[39;00m \u001b[39m*\u001b[39m\n",
      "File \u001b[0;32m~/Berkeley/Research/snow_benchmark/metaearth/metaearth/provider/__init__.py:7\u001b[0m, in \u001b[0;36m<module>\u001b[0;34m\u001b[0m\n\u001b[1;32m      3\u001b[0m \u001b[39mfrom\u001b[39;00m \u001b[39mtyping\u001b[39;00m \u001b[39mimport\u001b[39;00m Any\n\u001b[1;32m      5\u001b[0m \u001b[39mfrom\u001b[39;00m \u001b[39mmetaearth\u001b[39;00m\u001b[39m.\u001b[39;00m\u001b[39mutil\u001b[39;00m\u001b[39m.\u001b[39;00m\u001b[39mmisc\u001b[39;00m \u001b[39mimport\u001b[39;00m dict_hash\n\u001b[0;32m----> 7\u001b[0m \u001b[39mfrom\u001b[39;00m \u001b[39m.\u001b[39;00m\u001b[39mbase\u001b[39;00m \u001b[39mimport\u001b[39;00m BaseProvider\n\u001b[1;32m      8\u001b[0m \u001b[39mfrom\u001b[39;00m \u001b[39m.\u001b[39;00m\u001b[39mearthdata\u001b[39;00m \u001b[39mimport\u001b[39;00m EarthDataProvider\n\u001b[1;32m      9\u001b[0m \u001b[39mfrom\u001b[39;00m \u001b[39m.\u001b[39;00m\u001b[39mmpc\u001b[39;00m \u001b[39mimport\u001b[39;00m MicrosoftPlanetaryComputer\n",
      "File \u001b[0;32m~/Berkeley/Research/snow_benchmark/metaearth/metaearth/provider/base.py:11\u001b[0m, in \u001b[0;36m<module>\u001b[0;34m\u001b[0m\n\u001b[1;32m      7\u001b[0m \u001b[39mimport\u001b[39;00m \u001b[39mshapely\u001b[39;00m\n\u001b[1;32m      8\u001b[0m \u001b[39mfrom\u001b[39;00m \u001b[39mpystac_client\u001b[39;00m \u001b[39mimport\u001b[39;00m Client\n\u001b[0;32m---> 11\u001b[0m \u001b[39mclass\u001b[39;00m \u001b[39mBaseProvider\u001b[39;00m(ABC):\n\u001b[1;32m     12\u001b[0m     \u001b[39m\"\"\"Abstract base class describing the provider interface.\"\"\"\u001b[39;00m\n\u001b[1;32m     14\u001b[0m     \u001b[39mdef\u001b[39;00m \u001b[39mregion_to_items\u001b[39m(\n\u001b[1;32m     15\u001b[0m         \u001b[39mself\u001b[39m,\n\u001b[1;32m     16\u001b[0m         region: Union[shapely\u001b[39m.\u001b[39mgeometry\u001b[39m.\u001b[39mPolygon, shapely\u001b[39m.\u001b[39mgeometry\u001b[39m.\u001b[39mMultiPolygon],\n\u001b[0;32m   (...)\u001b[0m\n\u001b[1;32m     19\u001b[0m         max_items: \u001b[39mint\u001b[39m,\n\u001b[1;32m     20\u001b[0m     ) \u001b[39m-\u001b[39m\u001b[39m>\u001b[39m Iterator[pystac\u001b[39m.\u001b[39mItem]:\n",
      "File \u001b[0;32m~/Berkeley/Research/snow_benchmark/metaearth/metaearth/provider/base.py:16\u001b[0m, in \u001b[0;36mBaseProvider\u001b[0;34m()\u001b[0m\n\u001b[1;32m     11\u001b[0m \u001b[39mclass\u001b[39;00m \u001b[39mBaseProvider\u001b[39;00m(ABC):\n\u001b[1;32m     12\u001b[0m     \u001b[39m\"\"\"Abstract base class describing the provider interface.\"\"\"\u001b[39;00m\n\u001b[1;32m     14\u001b[0m     \u001b[39mdef\u001b[39;00m \u001b[39mregion_to_items\u001b[39m(\n\u001b[1;32m     15\u001b[0m         \u001b[39mself\u001b[39m,\n\u001b[0;32m---> 16\u001b[0m         region: Union[shapely\u001b[39m.\u001b[39;49mgeometry\u001b[39m.\u001b[39mPolygon, shapely\u001b[39m.\u001b[39mgeometry\u001b[39m.\u001b[39mMultiPolygon],\n\u001b[1;32m     17\u001b[0m         datetime: \u001b[39mstr\u001b[39m,\n\u001b[1;32m     18\u001b[0m         collection: \u001b[39mstr\u001b[39m,\n\u001b[1;32m     19\u001b[0m         max_items: \u001b[39mint\u001b[39m,\n\u001b[1;32m     20\u001b[0m     ) \u001b[39m-\u001b[39m\u001b[39m>\u001b[39m Iterator[pystac\u001b[39m.\u001b[39mItem]:\n\u001b[1;32m     21\u001b[0m         \u001b[39m\"\"\"Create stac ItemCollection from a given region between start_date and end_date.\u001b[39;00m\n\u001b[1;32m     22\u001b[0m \n\u001b[1;32m     23\u001b[0m \u001b[39m        Args:\u001b[39;00m\n\u001b[0;32m   (...)\u001b[0m\n\u001b[1;32m     30\u001b[0m \u001b[39m            Iterator[pystac.Item]: an iterable that contains the pystac items\u001b[39;00m\n\u001b[1;32m     31\u001b[0m \u001b[39m        \"\"\"\u001b[39;00m\n\u001b[1;32m     32\u001b[0m         \u001b[39mpass\u001b[39;00m\n",
      "\u001b[0;31mAttributeError\u001b[0m: module 'shapely' has no attribute 'geometry'"
     ]
    }
   ],
   "source": [
    "import numpy as np\n",
    "import pandas as pd\n",
    "import matplotlib.pyplot as plt\n",
    "import os\n",
    "import subprocess\n",
    "from metaearth.provider.snotel import *"
   ]
  },
  {
   "cell_type": "code",
   "execution_count": 3,
   "metadata": {},
   "outputs": [],
   "source": [
    "snotel_summary = pd.read_csv('../../snotel_data/SNOTEL_summary.csv', delimiter=',', \n",
    "encoding_errors=\"ignore\", lineterminator='\\n')\n",
    "snotel_summary.columns = [col.rstrip(' ') for col in snotel_summary.columns]"
   ]
  },
  {
   "cell_type": "code",
   "execution_count": 4,
   "metadata": {},
   "outputs": [
    {
     "data": {
      "text/plain": [
       "Index(['Num', 'SNOTEL ID', 'SNOTEL State', 'SNOTEL Name', 'SNOTEL Elev (ft)',\n",
       "       'SNOTEL Lat ()', 'SNOTEL Lon ()', 'Data Starting Date',\n",
       "       'Data Ending Date', 'Unnamed: 9', 'Unnamed: 10', '\\r'],\n",
       "      dtype='object')"
      ]
     },
     "execution_count": 4,
     "metadata": {},
     "output_type": "execute_result"
    }
   ],
   "source": [
    "snotel_summary.columns"
   ]
  },
  {
   "cell_type": "code",
   "execution_count": 5,
   "metadata": {},
   "outputs": [
    {
     "data": {
      "text/html": [
       "<div>\n",
       "<style scoped>\n",
       "    .dataframe tbody tr th:only-of-type {\n",
       "        vertical-align: middle;\n",
       "    }\n",
       "\n",
       "    .dataframe tbody tr th {\n",
       "        vertical-align: top;\n",
       "    }\n",
       "\n",
       "    .dataframe thead th {\n",
       "        text-align: right;\n",
       "    }\n",
       "</style>\n",
       "<table border=\"1\" class=\"dataframe\">\n",
       "  <thead>\n",
       "    <tr style=\"text-align: right;\">\n",
       "      <th></th>\n",
       "      <th>Num</th>\n",
       "      <th>SNOTEL ID</th>\n",
       "      <th>SNOTEL State</th>\n",
       "      <th>SNOTEL Name</th>\n",
       "      <th>SNOTEL Elev (ft)</th>\n",
       "      <th>SNOTEL Lat ()</th>\n",
       "      <th>SNOTEL Lon ()</th>\n",
       "      <th>Data Starting Date</th>\n",
       "      <th>Data Ending Date</th>\n",
       "      <th>Unnamed: 9</th>\n",
       "      <th>Unnamed: 10</th>\n",
       "      <th>\\r</th>\n",
       "    </tr>\n",
       "  </thead>\n",
       "  <tbody>\n",
       "    <tr>\n",
       "      <th>0</th>\n",
       "      <td>1</td>\n",
       "      <td>1000</td>\n",
       "      <td>OR</td>\n",
       "      <td>Annie Springs</td>\n",
       "      <td>6010</td>\n",
       "      <td>42.87</td>\n",
       "      <td>-122.17</td>\n",
       "      <td>9/15/2000</td>\n",
       "      <td>9/30/2018</td>\n",
       "      <td>NaN</td>\n",
       "      <td>NaN</td>\n",
       "      <td>\\r</td>\n",
       "    </tr>\n",
       "    <tr>\n",
       "      <th>1</th>\n",
       "      <td>2</td>\n",
       "      <td>1001</td>\n",
       "      <td>AK</td>\n",
       "      <td>Long Lake</td>\n",
       "      <td>850</td>\n",
       "      <td>58.19</td>\n",
       "      <td>-133.83</td>\n",
       "      <td>10/1/1999</td>\n",
       "      <td>9/30/2018</td>\n",
       "      <td>NaN</td>\n",
       "      <td>NaN</td>\n",
       "      <td>\\r</td>\n",
       "    </tr>\n",
       "    <tr>\n",
       "      <th>2</th>\n",
       "      <td>3</td>\n",
       "      <td>1003</td>\n",
       "      <td>AK</td>\n",
       "      <td>Mcneil Canyon</td>\n",
       "      <td>1320</td>\n",
       "      <td>59.74</td>\n",
       "      <td>-151.25</td>\n",
       "      <td>10/1/1986</td>\n",
       "      <td>9/30/2018</td>\n",
       "      <td>NaN</td>\n",
       "      <td>NaN</td>\n",
       "      <td>\\r</td>\n",
       "    </tr>\n",
       "    <tr>\n",
       "      <th>3</th>\n",
       "      <td>4</td>\n",
       "      <td>1005</td>\n",
       "      <td>CO</td>\n",
       "      <td>Ute Creek</td>\n",
       "      <td>10650</td>\n",
       "      <td>37.61</td>\n",
       "      <td>-105.37</td>\n",
       "      <td>8/15/2000</td>\n",
       "      <td>9/30/2018</td>\n",
       "      <td>NaN</td>\n",
       "      <td>NaN</td>\n",
       "      <td>\\r</td>\n",
       "    </tr>\n",
       "    <tr>\n",
       "      <th>4</th>\n",
       "      <td>5</td>\n",
       "      <td>1006</td>\n",
       "      <td>NV</td>\n",
       "      <td>Lewis Peak</td>\n",
       "      <td>7400</td>\n",
       "      <td>40.36</td>\n",
       "      <td>-116.86</td>\n",
       "      <td>8/23/2000</td>\n",
       "      <td>9/30/2018</td>\n",
       "      <td>NaN</td>\n",
       "      <td>NaN</td>\n",
       "      <td>\\r</td>\n",
       "    </tr>\n",
       "  </tbody>\n",
       "</table>\n",
       "</div>"
      ],
      "text/plain": [
       "   Num  SNOTEL ID SNOTEL State    SNOTEL Name  SNOTEL Elev (ft)  \\\n",
       "0    1       1000           OR  Annie Springs              6010   \n",
       "1    2       1001           AK      Long Lake               850   \n",
       "2    3       1003           AK  Mcneil Canyon              1320   \n",
       "3    4       1005           CO      Ute Creek             10650   \n",
       "4    5       1006           NV     Lewis Peak              7400   \n",
       "\n",
       "   SNOTEL Lat ()  SNOTEL Lon () Data Starting Date Data Ending Date  \\\n",
       "0          42.87        -122.17          9/15/2000        9/30/2018   \n",
       "1          58.19        -133.83          10/1/1999        9/30/2018   \n",
       "2          59.74        -151.25          10/1/1986        9/30/2018   \n",
       "3          37.61        -105.37          8/15/2000        9/30/2018   \n",
       "4          40.36        -116.86          8/23/2000        9/30/2018   \n",
       "\n",
       "   Unnamed: 9  Unnamed: 10  \\r  \n",
       "0         NaN          NaN  \\r  \n",
       "1         NaN          NaN  \\r  \n",
       "2         NaN          NaN  \\r  \n",
       "3         NaN          NaN  \\r  \n",
       "4         NaN          NaN  \\r  "
      ]
     },
     "execution_count": 5,
     "metadata": {},
     "output_type": "execute_result"
    }
   ],
   "source": [
    "snotel_summary.head()"
   ]
  },
  {
   "cell_type": "code",
   "execution_count": 6,
   "metadata": {},
   "outputs": [
    {
     "data": {
      "text/html": [
       "<div>\n",
       "<style scoped>\n",
       "    .dataframe tbody tr th:only-of-type {\n",
       "        vertical-align: middle;\n",
       "    }\n",
       "\n",
       "    .dataframe tbody tr th {\n",
       "        vertical-align: top;\n",
       "    }\n",
       "\n",
       "    .dataframe thead th {\n",
       "        text-align: right;\n",
       "    }\n",
       "</style>\n",
       "<table border=\"1\" class=\"dataframe\">\n",
       "  <thead>\n",
       "    <tr style=\"text-align: right;\">\n",
       "      <th></th>\n",
       "      <th>Num</th>\n",
       "      <th>SNOTEL ID</th>\n",
       "      <th>SNOTEL State</th>\n",
       "      <th>SNOTEL Name</th>\n",
       "      <th>SNOTEL Elev (ft)</th>\n",
       "      <th>SNOTEL Lat ()</th>\n",
       "      <th>SNOTEL Lon ()</th>\n",
       "      <th>Data Starting Date</th>\n",
       "      <th>Data Ending Date</th>\n",
       "      <th>Unnamed: 9</th>\n",
       "      <th>Unnamed: 10</th>\n",
       "      <th>\\r</th>\n",
       "    </tr>\n",
       "  </thead>\n",
       "  <tbody>\n",
       "    <tr>\n",
       "      <th>17</th>\n",
       "      <td>18</td>\n",
       "      <td>1032</td>\n",
       "      <td>CO</td>\n",
       "      <td>Rawah</td>\n",
       "      <td>9020</td>\n",
       "      <td>40.71</td>\n",
       "      <td>-106.01</td>\n",
       "      <td>9/12/2002</td>\n",
       "      <td>9/30/2018</td>\n",
       "      <td>NaN</td>\n",
       "      <td>NaN</td>\n",
       "      <td>\\r</td>\n",
       "    </tr>\n",
       "  </tbody>\n",
       "</table>\n",
       "</div>"
      ],
      "text/plain": [
       "    Num  SNOTEL ID SNOTEL State SNOTEL Name  SNOTEL Elev (ft)  SNOTEL Lat ()  \\\n",
       "17   18       1032           CO       Rawah              9020          40.71   \n",
       "\n",
       "    SNOTEL Lon () Data Starting Date Data Ending Date  Unnamed: 9  \\\n",
       "17        -106.01          9/12/2002        9/30/2018         NaN   \n",
       "\n",
       "    Unnamed: 10  \\r  \n",
       "17          NaN  \\r  "
      ]
     },
     "execution_count": 6,
     "metadata": {},
     "output_type": "execute_result"
    }
   ],
   "source": [
    "snotel_summary[(snotel_summary['SNOTEL Lat ()']==40.71) & (snotel_summary['SNOTEL Lon ()']==-106.01)]"
   ]
  },
  {
   "cell_type": "code",
   "execution_count": 15,
   "metadata": {},
   "outputs": [
    {
     "data": {
      "text/html": [
       "<div>\n",
       "<style scoped>\n",
       "    .dataframe tbody tr th:only-of-type {\n",
       "        vertical-align: middle;\n",
       "    }\n",
       "\n",
       "    .dataframe tbody tr th {\n",
       "        vertical-align: top;\n",
       "    }\n",
       "\n",
       "    .dataframe thead th {\n",
       "        text-align: right;\n",
       "    }\n",
       "</style>\n",
       "<table border=\"1\" class=\"dataframe\">\n",
       "  <thead>\n",
       "    <tr style=\"text-align: right;\">\n",
       "      <th></th>\n",
       "      <th>Num</th>\n",
       "      <th>SNOTEL ID</th>\n",
       "      <th>SNOTEL State</th>\n",
       "      <th>SNOTEL Name</th>\n",
       "      <th>SNOTEL Elev (ft)</th>\n",
       "      <th>SNOTEL Lat ()</th>\n",
       "      <th>SNOTEL Lon ()</th>\n",
       "      <th>Data Starting Date</th>\n",
       "      <th>Data Ending Date</th>\n",
       "      <th>Unnamed: 9</th>\n",
       "      <th>Unnamed: 10</th>\n",
       "      <th>\\r</th>\n",
       "    </tr>\n",
       "  </thead>\n",
       "  <tbody>\n",
       "    <tr>\n",
       "      <th>17</th>\n",
       "      <td>18</td>\n",
       "      <td>1032</td>\n",
       "      <td>CO</td>\n",
       "      <td>Rawah</td>\n",
       "      <td>9020</td>\n",
       "      <td>40.71</td>\n",
       "      <td>-106.01</td>\n",
       "      <td>9/12/2002</td>\n",
       "      <td>9/30/2018</td>\n",
       "      <td>NaN</td>\n",
       "      <td>NaN</td>\n",
       "      <td>\\r</td>\n",
       "    </tr>\n",
       "  </tbody>\n",
       "</table>\n",
       "</div>"
      ],
      "text/plain": [
       "    Num  SNOTEL ID SNOTEL State SNOTEL Name  SNOTEL Elev (ft)  SNOTEL Lat ()  \\\n",
       "17   18       1032           CO       Rawah              9020          40.71   \n",
       "\n",
       "    SNOTEL Lon () Data Starting Date Data Ending Date  Unnamed: 9  \\\n",
       "17        -106.01          9/12/2002        9/30/2018         NaN   \n",
       "\n",
       "    Unnamed: 10  \\r  \n",
       "17          NaN  \\r  "
      ]
     },
     "execution_count": 15,
     "metadata": {},
     "output_type": "execute_result"
    }
   ],
   "source": [
    "rawah =snotel_summary[snotel_summary['SNOTEL Name']=='Rawah']\n",
    "rawah"
   ]
  },
  {
   "cell_type": "code",
   "execution_count": 18,
   "metadata": {},
   "outputs": [
    {
     "data": {
      "text/plain": [
       "1032"
      ]
     },
     "execution_count": 18,
     "metadata": {},
     "output_type": "execute_result"
    }
   ],
   "source": [
    "rawah['SNOTEL ID'].values[0]"
   ]
  },
  {
   "cell_type": "code",
   "execution_count": 9,
   "metadata": {},
   "outputs": [
    {
     "data": {
      "text/plain": [
       "829"
      ]
     },
     "execution_count": 9,
     "metadata": {},
     "output_type": "execute_result"
    }
   ],
   "source": [
    "len(snotel_summary['SNOTEL Name'].unique())"
   ]
  },
  {
   "cell_type": "code",
   "execution_count": null,
   "metadata": {},
   "outputs": [],
   "source": []
  },
  {
   "cell_type": "code",
   "execution_count": 22,
   "metadata": {},
   "outputs": [],
   "source": [
    "def curl_snotel_data(id, state, network='SNTL', request_url = 'https://wcc.sc.egov.usda.gov/reportGenerator/view_csv/customSingleStationReport,metric/daily/',\n",
    "    request_params = r'%7Cid=%22%22%7Cname/POR_BEGIN,POR_END/WTEQ::value,PREC::value,TMAX::value,TMIN::value,TAVG::value,PRCP::value'):\n",
    "    curl_url = f'{request_url}/{id}:{state}:{network}{request_params}'\n",
    "    proc = subprocess.Popen([\"curl\", curl_url], stdout=subprocess.PIPE)\n",
    "    (out, err) = proc.communicate()\n",
    "    print(err)\n",
    "    return out\n",
    "    \n",
    "\n",
    "def get_snotel_data(snotel_summary=None, id=None, name=None, elevation=None,lat=None, lon=None, state=None, start_date=None, end_date=None, ):\n",
    "    return_data = {}\n",
    "    request_url = 'https://wcc.sc.egov.usda.gov/reportGenerator/view_csv/customSingleStationReport,metric/daily/'\n",
    "    request_params = r'%7Cid=%22%22%7Cname/POR_BEGIN,POR_END/WTEQ::value,PREC::value,TMAX::value,TMIN::value,TAVG::value,PRCP::value'\n",
    "    if snotel_summary is None:\n",
    "        snotel_summary = pd.read_csv('../../snotel_data/SNOTEL_summary.csv', delimiter=',', \n",
    "encoding_errors=\"ignore\", lineterminator='\\n')\n",
    "    snotel_summary.columns = [col.rstrip(' ') for col in snotel_summary.columns]\n",
    "    if id is not None:\n",
    "        if ~isinstance(id, list):\n",
    "            id = [id]\n",
    "        for i in id:\n",
    "            curr_snotel = snotel_summary[snotel_summary['SNOTEL ID']==i]\n",
    "            id = curr_snotel['SNOTEL ID'].values[0]\n",
    "            state = curr_snotel['SNOTEL State'].values[0]\n",
    "            return_data[i]= curl_snotel_data(id, state)\n",
    "\n",
    "    else:\n",
    "        # Return all\n",
    "        pass\n",
    "    \n",
    "    return return_data"
   ]
  },
  {
   "cell_type": "code",
   "execution_count": 24,
   "metadata": {},
   "outputs": [
    {
     "name": "stderr",
     "output_type": "stream",
     "text": [
      "  % Total    % Received % Xferd  Average Speed   Time    Time     Time  Current\n",
      "                                 Dload  Upload   Total   Spent    Left  Speed\n",
      "100 28408    0 28408    0     0  16821      0 --:--:--  0:00:01 --:--:-- 16819"
     ]
    },
    {
     "name": "stdout",
     "output_type": "stream",
     "text": [
      "None\n"
     ]
    },
    {
     "name": "stderr",
     "output_type": "stream",
     "text": [
      "100  245k    0  245k    0     0   104k      0 --:--:--  0:00:02 --:--:--  104k\n"
     ]
    }
   ],
   "source": [
    "snotel_data = get_snotel_data(snotel_summary, id=1032)"
   ]
  },
  {
   "cell_type": "code",
   "execution_count": 88,
   "metadata": {},
   "outputs": [
    {
     "data": {
      "text/html": [
       "<div>\n",
       "<style scoped>\n",
       "    .dataframe tbody tr th:only-of-type {\n",
       "        vertical-align: middle;\n",
       "    }\n",
       "\n",
       "    .dataframe tbody tr th {\n",
       "        vertical-align: top;\n",
       "    }\n",
       "\n",
       "    .dataframe thead th {\n",
       "        text-align: right;\n",
       "    }\n",
       "</style>\n",
       "<table border=\"1\" class=\"dataframe\">\n",
       "  <thead>\n",
       "    <tr style=\"text-align: right;\">\n",
       "      <th></th>\n",
       "      <th>Num</th>\n",
       "      <th>SNOTEL ID</th>\n",
       "      <th>SNOTEL State</th>\n",
       "      <th>SNOTEL Name</th>\n",
       "      <th>SNOTEL Elev (ft)</th>\n",
       "      <th>SNOTEL Lat ()</th>\n",
       "      <th>SNOTEL Lon ()</th>\n",
       "      <th>Data Starting Date</th>\n",
       "      <th>Data Ending Date</th>\n",
       "      <th>Unnamed: 9</th>\n",
       "      <th>Unnamed: 10</th>\n",
       "      <th>\\r</th>\n",
       "    </tr>\n",
       "  </thead>\n",
       "  <tbody>\n",
       "  </tbody>\n",
       "</table>\n",
       "</div>"
      ],
      "text/plain": [
       "Empty DataFrame\n",
       "Columns: [Num, SNOTEL ID, SNOTEL State, SNOTEL Name, SNOTEL Elev (ft), SNOTEL Lat (), SNOTEL Lon (), Data Starting Date, Data Ending Date, Unnamed: 9, Unnamed: 10, \n",
       "]\n",
       "Index: []"
      ]
     },
     "execution_count": 88,
     "metadata": {},
     "output_type": "execute_result"
    }
   ],
   "source": [
    "id = [1, 2]\n",
    "snotel_summary[snotel_summary['SNOTEL ID'].isin(id)]"
   ]
  },
  {
   "cell_type": "code",
   "execution_count": null,
   "metadata": {},
   "outputs": [],
   "source": []
  }
 ],
 "metadata": {
  "kernelspec": {
   "display_name": "Python 3.8.2 ('metaearth')",
   "language": "python",
   "name": "python3"
  },
  "language_info": {
   "codemirror_mode": {
    "name": "ipython",
    "version": 3
   },
   "file_extension": ".py",
   "mimetype": "text/x-python",
   "name": "python",
   "nbconvert_exporter": "python",
   "pygments_lexer": "ipython3",
   "version": "3.8.2"
  },
  "orig_nbformat": 4,
  "vscode": {
   "interpreter": {
    "hash": "e9aaf8c060b2e5ec71df352178721b522d27d4eae8fab9b6a37bf0e9aa9e348c"
   }
  }
 },
 "nbformat": 4,
 "nbformat_minor": 2
}
