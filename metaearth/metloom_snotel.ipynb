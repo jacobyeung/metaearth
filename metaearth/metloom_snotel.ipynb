{
 "cells": [
  {
   "cell_type": "code",
   "execution_count": 1,
   "metadata": {},
   "outputs": [],
   "source": [
    "%load_ext autoreload\n",
    "%autoreload 2"
   ]
  },
  {
   "cell_type": "code",
   "execution_count": 2,
   "metadata": {},
   "outputs": [],
   "source": [
    "import sys\n",
    "sys.path.append('/Users/jacobyeung/anaconda3/envs/metaearth/lib/python3.8/site-packages')"
   ]
  },
  {
   "cell_type": "code",
   "execution_count": 3,
   "metadata": {},
   "outputs": [],
   "source": [
    "import numpy as np\n",
    "import pandas as pd\n",
    "import matplotlib.pyplot as plt\n",
    "import os\n",
    "import shapely\n",
    "import subprocess\n",
    "# from metaearth.snotel import *\n",
    "from metloom.pointdata.snotel_client import SeriesSnotelClient, MetaDataSnotelClient\n",
    "from metloom.pointdata.snotel import SnotelPointData\n",
    "from datetime import datetime\n",
    "import geopandas as gpd"
   ]
  },
  {
   "cell_type": "code",
   "execution_count": 4,
   "metadata": {},
   "outputs": [],
   "source": [
    "snotel_summary = pd.read_csv('../../snotel_data/SNOTEL_summary.csv', delimiter=',', \n",
    "encoding_errors=\"ignore\", lineterminator='\\n')\n",
    "snotel_summary.columns = [col.rstrip(' ') for col in snotel_summary.columns]"
   ]
  },
  {
   "cell_type": "code",
   "execution_count": 5,
   "metadata": {},
   "outputs": [
    {
     "data": {
      "text/plain": [
       "Index(['Num', 'SNOTEL ID', 'SNOTEL State', 'SNOTEL Name', 'SNOTEL Elev (ft)',\n",
       "       'SNOTEL Lat ()', 'SNOTEL Lon ()', 'Data Starting Date',\n",
       "       'Data Ending Date', 'Unnamed: 9', 'Unnamed: 10', '\\r'],\n",
       "      dtype='object')"
      ]
     },
     "execution_count": 5,
     "metadata": {},
     "output_type": "execute_result"
    }
   ],
   "source": [
    "snotel_summary.columns"
   ]
  },
  {
   "cell_type": "code",
   "execution_count": 6,
   "metadata": {},
   "outputs": [
    {
     "data": {
      "text/html": [
       "<div>\n",
       "<style scoped>\n",
       "    .dataframe tbody tr th:only-of-type {\n",
       "        vertical-align: middle;\n",
       "    }\n",
       "\n",
       "    .dataframe tbody tr th {\n",
       "        vertical-align: top;\n",
       "    }\n",
       "\n",
       "    .dataframe thead th {\n",
       "        text-align: right;\n",
       "    }\n",
       "</style>\n",
       "<table border=\"1\" class=\"dataframe\">\n",
       "  <thead>\n",
       "    <tr style=\"text-align: right;\">\n",
       "      <th></th>\n",
       "      <th>Num</th>\n",
       "      <th>SNOTEL ID</th>\n",
       "      <th>SNOTEL State</th>\n",
       "      <th>SNOTEL Name</th>\n",
       "      <th>SNOTEL Elev (ft)</th>\n",
       "      <th>SNOTEL Lat ()</th>\n",
       "      <th>SNOTEL Lon ()</th>\n",
       "      <th>Data Starting Date</th>\n",
       "      <th>Data Ending Date</th>\n",
       "      <th>Unnamed: 9</th>\n",
       "      <th>Unnamed: 10</th>\n",
       "      <th>\\r</th>\n",
       "    </tr>\n",
       "  </thead>\n",
       "  <tbody>\n",
       "    <tr>\n",
       "      <th>0</th>\n",
       "      <td>1</td>\n",
       "      <td>1000</td>\n",
       "      <td>OR</td>\n",
       "      <td>Annie Springs</td>\n",
       "      <td>6010</td>\n",
       "      <td>42.87</td>\n",
       "      <td>-122.17</td>\n",
       "      <td>9/15/2000</td>\n",
       "      <td>9/30/2018</td>\n",
       "      <td>NaN</td>\n",
       "      <td>NaN</td>\n",
       "      <td>\\r</td>\n",
       "    </tr>\n",
       "    <tr>\n",
       "      <th>1</th>\n",
       "      <td>2</td>\n",
       "      <td>1001</td>\n",
       "      <td>AK</td>\n",
       "      <td>Long Lake</td>\n",
       "      <td>850</td>\n",
       "      <td>58.19</td>\n",
       "      <td>-133.83</td>\n",
       "      <td>10/1/1999</td>\n",
       "      <td>9/30/2018</td>\n",
       "      <td>NaN</td>\n",
       "      <td>NaN</td>\n",
       "      <td>\\r</td>\n",
       "    </tr>\n",
       "    <tr>\n",
       "      <th>2</th>\n",
       "      <td>3</td>\n",
       "      <td>1003</td>\n",
       "      <td>AK</td>\n",
       "      <td>Mcneil Canyon</td>\n",
       "      <td>1320</td>\n",
       "      <td>59.74</td>\n",
       "      <td>-151.25</td>\n",
       "      <td>10/1/1986</td>\n",
       "      <td>9/30/2018</td>\n",
       "      <td>NaN</td>\n",
       "      <td>NaN</td>\n",
       "      <td>\\r</td>\n",
       "    </tr>\n",
       "    <tr>\n",
       "      <th>3</th>\n",
       "      <td>4</td>\n",
       "      <td>1005</td>\n",
       "      <td>CO</td>\n",
       "      <td>Ute Creek</td>\n",
       "      <td>10650</td>\n",
       "      <td>37.61</td>\n",
       "      <td>-105.37</td>\n",
       "      <td>8/15/2000</td>\n",
       "      <td>9/30/2018</td>\n",
       "      <td>NaN</td>\n",
       "      <td>NaN</td>\n",
       "      <td>\\r</td>\n",
       "    </tr>\n",
       "    <tr>\n",
       "      <th>4</th>\n",
       "      <td>5</td>\n",
       "      <td>1006</td>\n",
       "      <td>NV</td>\n",
       "      <td>Lewis Peak</td>\n",
       "      <td>7400</td>\n",
       "      <td>40.36</td>\n",
       "      <td>-116.86</td>\n",
       "      <td>8/23/2000</td>\n",
       "      <td>9/30/2018</td>\n",
       "      <td>NaN</td>\n",
       "      <td>NaN</td>\n",
       "      <td>\\r</td>\n",
       "    </tr>\n",
       "  </tbody>\n",
       "</table>\n",
       "</div>"
      ],
      "text/plain": [
       "   Num  SNOTEL ID SNOTEL State    SNOTEL Name  SNOTEL Elev (ft)  \\\n",
       "0    1       1000           OR  Annie Springs              6010   \n",
       "1    2       1001           AK      Long Lake               850   \n",
       "2    3       1003           AK  Mcneil Canyon              1320   \n",
       "3    4       1005           CO      Ute Creek             10650   \n",
       "4    5       1006           NV     Lewis Peak              7400   \n",
       "\n",
       "   SNOTEL Lat ()  SNOTEL Lon () Data Starting Date Data Ending Date  \\\n",
       "0          42.87        -122.17          9/15/2000        9/30/2018   \n",
       "1          58.19        -133.83          10/1/1999        9/30/2018   \n",
       "2          59.74        -151.25          10/1/1986        9/30/2018   \n",
       "3          37.61        -105.37          8/15/2000        9/30/2018   \n",
       "4          40.36        -116.86          8/23/2000        9/30/2018   \n",
       "\n",
       "   Unnamed: 9  Unnamed: 10  \\r  \n",
       "0         NaN          NaN  \\r  \n",
       "1         NaN          NaN  \\r  \n",
       "2         NaN          NaN  \\r  \n",
       "3         NaN          NaN  \\r  \n",
       "4         NaN          NaN  \\r  "
      ]
     },
     "execution_count": 6,
     "metadata": {},
     "output_type": "execute_result"
    }
   ],
   "source": [
    "snotel_summary.head()"
   ]
  },
  {
   "cell_type": "code",
   "execution_count": 7,
   "metadata": {},
   "outputs": [],
   "source": [
    "def get_triplet(snotel_summary, id):\n",
    "    curr_snotel = snotel_summary[snotel_summary['SNOTEL ID']==id]\n",
    "    id = curr_snotel['SNOTEL ID'].values[0]\n",
    "    state = curr_snotel['SNOTEL State'].values[0]\n",
    "    triplet = f'{id}:{state}:SNTL'\n",
    "    return triplet"
   ]
  },
  {
   "cell_type": "code",
   "execution_count": 8,
   "metadata": {},
   "outputs": [],
   "source": [
    "rawah_triplet = get_triplet(snotel_summary, 1032)"
   ]
  },
  {
   "cell_type": "code",
   "execution_count": 9,
   "metadata": {},
   "outputs": [
    {
     "data": {
      "text/plain": [
       "'1032:CO:SNTL'"
      ]
     },
     "execution_count": 9,
     "metadata": {},
     "output_type": "execute_result"
    }
   ],
   "source": [
    "rawah_triplet"
   ]
  },
  {
   "cell_type": "code",
   "execution_count": 10,
   "metadata": {},
   "outputs": [],
   "source": [
    "snotel_meta = MetaDataSnotelClient(rawah_triplet)#, begin_date='2019-01-01', end_date='2019-01-31')"
   ]
  },
  {
   "cell_type": "code",
   "execution_count": 11,
   "metadata": {},
   "outputs": [
    {
     "data": {
      "text/plain": [
       "{'actonId': '06J20S',\n",
       " 'beginDate': '2002-09-01 00:00:00',\n",
       " 'countyName': 'Jackson',\n",
       " 'elevation': Decimal('9069.00'),\n",
       " 'endDate': '2100-01-01 00:00:00',\n",
       " 'fipsCountryCd': 'US',\n",
       " 'fipsCountyCd': '057',\n",
       " 'fipsStateNumber': '08',\n",
       " 'huc': '101800010603',\n",
       " 'hud': '10180001',\n",
       " 'latitude': Decimal('40.70794'),\n",
       " 'longitude': Decimal('-106.00727'),\n",
       " 'name': 'Rawah',\n",
       " 'shefId': 'RAWC2',\n",
       " 'stationDataTimeZone': Decimal('-8.0'),\n",
       " 'stationTimeZone': None,\n",
       " 'stationTriplet': '1032:CO:SNTL'}"
      ]
     },
     "execution_count": 11,
     "metadata": {},
     "output_type": "execute_result"
    }
   ],
   "source": [
    "snotel_meta.get_data()"
   ]
  },
  {
   "cell_type": "code",
   "execution_count": 12,
   "metadata": {},
   "outputs": [
    {
     "data": {
      "text/plain": [
       "'getStationMetadata'"
      ]
     },
     "execution_count": 12,
     "metadata": {},
     "output_type": "execute_result"
    }
   ],
   "source": [
    "snotel_meta.SERVICE_NAME"
   ]
  },
  {
   "cell_type": "markdown",
   "metadata": {},
   "source": [
    "# SeriesSnotelClient"
   ]
  },
  {
   "cell_type": "code",
   "execution_count": 13,
   "metadata": {},
   "outputs": [],
   "source": [
    "snotel_meta = SeriesSnotelClient(station_triplet=rawah_triplet, begin_date=datetime(2019,1,1), end_date=datetime(2019,1,31))"
   ]
  },
  {
   "cell_type": "code",
   "execution_count": 14,
   "metadata": {},
   "outputs": [
    {
     "data": {
      "text/plain": [
       "31"
      ]
     },
     "execution_count": 14,
     "metadata": {},
     "output_type": "execute_result"
    }
   ],
   "source": [
    "len(snotel_meta.get_data(\"WTEQ\"))"
   ]
  },
  {
   "cell_type": "code",
   "execution_count": 16,
   "metadata": {},
   "outputs": [
    {
     "name": "stdout",
     "output_type": "stream",
     "text": [
      "                                                                        geometry  \\\n",
      "datetime                  site                                                     \n",
      "2020-01-02 08:00:00+00:00 713:CO:SNTL  POINT Z (-107.71389 37.89168 11080.00000)   \n",
      "\n",
      "                                        SWE SWE_units datasource  \n",
      "datetime                  site                                    \n",
      "2020-01-02 08:00:00+00:00 713:CO:SNTL  11.6        in       NRCS  \n"
     ]
    }
   ],
   "source": [
    "snotel_point = SnotelPointData(\"713:CO:SNTL\", \"Rawah\")\n",
    "df = snotel_point.get_daily_data(\n",
    "    datetime(2020, 1, 2), datetime(2020, 1, 2),\n",
    "    [snotel_point.ALLOWED_VARIABLES.SWE]\n",
    ")\n",
    "print(df)"
   ]
  },
  {
   "cell_type": "markdown",
   "metadata": {},
   "source": [
    "# Area of interest"
   ]
  },
  {
   "cell_type": "code",
   "execution_count": 30,
   "metadata": {},
   "outputs": [],
   "source": [
    "aoi_file = '../config/aoi/aso-2013-2019-regions.json'\n",
    "region = gpd.read_file(aoi_file)\n"
   ]
  },
  {
   "cell_type": "code",
   "execution_count": 31,
   "metadata": {},
   "outputs": [
    {
     "data": {
      "text/html": [
       "<div>\n",
       "<style scoped>\n",
       "    .dataframe tbody tr th:only-of-type {\n",
       "        vertical-align: middle;\n",
       "    }\n",
       "\n",
       "    .dataframe tbody tr th {\n",
       "        vertical-align: top;\n",
       "    }\n",
       "\n",
       "    .dataframe thead th {\n",
       "        text-align: right;\n",
       "    }\n",
       "</style>\n",
       "<table border=\"1\" class=\"dataframe\">\n",
       "  <thead>\n",
       "    <tr style=\"text-align: right;\">\n",
       "      <th></th>\n",
       "      <th>geometry</th>\n",
       "    </tr>\n",
       "  </thead>\n",
       "  <tbody>\n",
       "    <tr>\n",
       "      <th>0</th>\n",
       "      <td>MULTIPOLYGON (((-119.09765 38.00096, -119.0976...</td>\n",
       "    </tr>\n",
       "  </tbody>\n",
       "</table>\n",
       "</div>"
      ],
      "text/plain": [
       "                                            geometry\n",
       "0  MULTIPOLYGON (((-119.09765 38.00096, -119.0976..."
      ]
     },
     "execution_count": 31,
     "metadata": {},
     "output_type": "execute_result"
    }
   ],
   "source": [
    "region"
   ]
  },
  {
   "cell_type": "code",
   "execution_count": 32,
   "metadata": {},
   "outputs": [
    {
     "data": {
      "text/plain": [
       "<Geographic 2D CRS: EPSG:4326>\n",
       "Name: WGS 84\n",
       "Axis Info [ellipsoidal]:\n",
       "- Lat[north]: Geodetic latitude (degree)\n",
       "- Lon[east]: Geodetic longitude (degree)\n",
       "Area of Use:\n",
       "- name: World.\n",
       "- bounds: (-180.0, -90.0, 180.0, 90.0)\n",
       "Datum: World Geodetic System 1984 ensemble\n",
       "- Ellipsoid: WGS 84\n",
       "- Prime Meridian: Greenwich"
      ]
     },
     "execution_count": 32,
     "metadata": {},
     "output_type": "execute_result"
    }
   ],
   "source": [
    "region.crs"
   ]
  },
  {
   "cell_type": "code",
   "execution_count": 57,
   "metadata": {},
   "outputs": [
    {
     "name": "stdout",
     "output_type": "stream",
     "text": [
      "Empty GeoDataFrame\n",
      "Columns: [name, id, datasource, geometry]\n",
      "Index: []\n"
     ]
    }
   ],
   "source": [
    "snotel_point = SnotelPointData(\"713:CO:SNTL\", \"MyStation\")\n",
    "vars = [snotel_point.ALLOWED_VARIABLES.SWE]\n",
    "points = SnotelPointData.points_from_geometry(region, vars)\n",
    "df = points.to_dataframe()\n",
    "print(df)"
   ]
  },
  {
   "cell_type": "code",
   "execution_count": 23,
   "metadata": {},
   "outputs": [
    {
     "ename": "AttributeError",
     "evalue": "'Polygon' object has no attribute 'crs'",
     "output_type": "error",
     "traceback": [
      "\u001b[0;31m---------------------------------------------------------------------------\u001b[0m",
      "\u001b[0;31mAttributeError\u001b[0m                            Traceback (most recent call last)",
      "\u001b[1;32m/Users/jacobyeung/Berkeley/Research/snow_benchmark/metaearth/notebooks/metloom_snotel.ipynb Cell 21\u001b[0m in \u001b[0;36m<cell line: 1>\u001b[0;34m()\u001b[0m\n\u001b[0;32m----> <a href='vscode-notebook-cell:/Users/jacobyeung/Berkeley/Research/snow_benchmark/metaearth/notebooks/metloom_snotel.ipynb#X32sZmlsZQ%3D%3D?line=0'>1</a>\u001b[0m region\u001b[39m.\u001b[39;49mcrs\n",
      "\u001b[0;31mAttributeError\u001b[0m: 'Polygon' object has no attribute 'crs'"
     ]
    }
   ],
   "source": [
    "region.crs"
   ]
  },
  {
   "cell_type": "code",
   "execution_count": null,
   "metadata": {},
   "outputs": [],
   "source": []
  }
 ],
 "metadata": {
  "kernelspec": {
   "display_name": "Python 3.8.2 ('metaearth')",
   "language": "python",
   "name": "python3"
  },
  "language_info": {
   "codemirror_mode": {
    "name": "ipython",
    "version": 3
   },
   "file_extension": ".py",
   "mimetype": "text/x-python",
   "name": "python",
   "nbconvert_exporter": "python",
   "pygments_lexer": "ipython3",
   "version": "3.8.2"
  },
  "orig_nbformat": 4,
  "vscode": {
   "interpreter": {
    "hash": "e9aaf8c060b2e5ec71df352178721b522d27d4eae8fab9b6a37bf0e9aa9e348c"
   }
  }
 },
 "nbformat": 4,
 "nbformat_minor": 2
}
